{
 "cells": [
  {
   "cell_type": "code",
   "execution_count": 4,
   "id": "59ef4246",
   "metadata": {},
   "outputs": [],
   "source": [
    "import pandas as pd\n",
    "import numpy as np\n",
    "from sklearn.model_selection import train_test_split, GridSearchCV\n",
    "from sklearn.preprocessing import StandardScaler, LabelEncoder\n",
    "from sklearn.ensemble import GradientBoostingClassifier\n",
    "from sklearn.metrics import accuracy_score, classification_report, roc_auc_score\n",
    "from imblearn.over_sampling import SMOTE\n",
    "import joblib\n",
    "import logging\n",
    "import warnings\n",
    "import seaborn as sns\n",
    "import matplotlib.pyplot as plt\n",
    "\n",
    "# Configure logging\n",
    "logging.basicConfig(level=logging.INFO)\n",
    "logger = logging.getLogger(__name__)\n",
    "\n",
    "warnings.filterwarnings('ignore')\n",
    "\n"
   ]
  },
  {
   "cell_type": "code",
   "execution_count": 5,
   "id": "f73a7cf0",
   "metadata": {},
   "outputs": [
    {
     "name": "stderr",
     "output_type": "stream",
     "text": [
      "INFO:__main__:Loading dataset...\n"
     ]
    }
   ],
   "source": [
    "# Load the dataset\n",
    "logger.info(\"Loading dataset...\")\n",
    "df = pd.read_csv('healthcare-dataset-stroke-data.csv')"
   ]
  },
  {
   "cell_type": "code",
   "execution_count": 6,
   "id": "e91e133c",
   "metadata": {},
   "outputs": [
    {
     "name": "stderr",
     "output_type": "stream",
     "text": [
      "INFO:__main__:Preprocessing data...\n",
      "INFO:__main__:Missing BMI values filled. BMI null count: 0\n"
     ]
    }
   ],
   "source": [
    "# Data Preprocessing\n",
    "logger.info(\"Preprocessing data...\")\n",
    "# Handle missing values\n",
    "df['bmi'] = df['bmi'].replace('N/A', np.nan)\n",
    "df['bmi'] = df['bmi'].astype(float)\n",
    "df['bmi'].fillna(df['bmi'].mean(), inplace=True)\n",
    "logger.info(f\"Missing BMI values filled. BMI null count: {df['bmi'].isna().sum()}\")"
   ]
  },
  {
   "cell_type": "code",
   "execution_count": 7,
   "id": "62b49811",
   "metadata": {},
   "outputs": [],
   "source": [
    "# Drop 'id' column as it's not useful for prediction\n",
    "df = df.drop('id', axis=1)"
   ]
  },
  {
   "cell_type": "code",
   "execution_count": 8,
   "id": "261ff80a",
   "metadata": {},
   "outputs": [
    {
     "name": "stderr",
     "output_type": "stream",
     "text": [
      "INFO:__main__:Gender value counts: {'Female': 2994, 'Male': 2115}\n"
     ]
    }
   ],
   "source": [
    "# Drop rows where gender is 'Other'\n",
    "df = df[df['gender'] != 'Other']\n",
    "logger.info(f\"Gender value counts: {df['gender'].value_counts().to_dict()}\")"
   ]
  },
  {
   "cell_type": "code",
   "execution_count": 9,
   "id": "884fc197",
   "metadata": {},
   "outputs": [
    {
     "name": "stderr",
     "output_type": "stream",
     "text": [
      "INFO:__main__:Label encoded ever_married\n",
      "INFO:__main__:Label encoded smoking_status\n"
     ]
    }
   ],
   "source": [
    "# Encoding categorical values\n",
    "df['gender'] = df['gender'].replace({'Male': 0, 'Female': 1}).astype(np.int8)\n",
    "df['Residence_type'] = df['Residence_type'].replace({'Rural': 0, 'Urban': 1}).astype(np.int8)\n",
    "df['work_type'] = df['work_type'].replace({'Private': 0, 'Self-employed': 1, 'Govt_job': 2, 'children': 3, 'Never_worked': 4}).astype(np.int8)\n",
    "\n",
    "# Label encode ever_married and smoking_status\n",
    "label_encoders = {}\n",
    "for col in ['ever_married', 'smoking_status']:\n",
    "    le = LabelEncoder()\n",
    "    df[col] = le.fit_transform(df[col])\n",
    "    label_encoders[col] = le\n",
    "    logger.info(f\"Label encoded {col}\")"
   ]
  },
  {
   "cell_type": "code",
   "execution_count": 10,
   "id": "1139f733",
   "metadata": {},
   "outputs": [],
   "source": [
    "# Define features and target\n",
    "X = df.drop('stroke', axis=1)\n",
    "y = df['stroke']"
   ]
  },
  {
   "cell_type": "code",
   "execution_count": 11,
   "id": "7276a3ed",
   "metadata": {},
   "outputs": [
    {
     "name": "stderr",
     "output_type": "stream",
     "text": [
      "INFO:__main__:Features scaled\n"
     ]
    }
   ],
   "source": [
    "# Apply StandardScaler before train-test split\n",
    "scaler = StandardScaler()\n",
    "X_scaled = scaler.fit_transform(X)\n",
    "logger.info(\"Features scaled\")"
   ]
  },
  {
   "cell_type": "code",
   "execution_count": 12,
   "id": "4224ad0d",
   "metadata": {},
   "outputs": [
    {
     "name": "stderr",
     "output_type": "stream",
     "text": [
      "INFO:__main__:Data split into train and test sets\n"
     ]
    }
   ],
   "source": [
    "# Split the scaled data\n",
    "X_train_scaled, X_test_scaled, y_train, y_test = train_test_split(X_scaled, y, test_size=0.2, random_state=42, stratify=y)\n",
    "logger.info(\"Data split into train and test sets\")\n"
   ]
  },
  {
   "cell_type": "code",
   "execution_count": 13,
   "id": "a09f824f",
   "metadata": {},
   "outputs": [
    {
     "name": "stderr",
     "output_type": "stream",
     "text": [
      "INFO:__main__:Applying SMOTE to balance classes...\n",
      "INFO:__main__:Post-SMOTE class distribution: {0: 3888, 1: 3888}\n"
     ]
    }
   ],
   "source": [
    "# Apply SMOTE to balance the classes\n",
    "logger.info(\"Applying SMOTE to balance classes...\")\n",
    "smote = SMOTE(random_state=42)\n",
    "X_train_scaled, y_train = smote.fit_resample(X_train_scaled, y_train)\n",
    "logger.info(f\"Post-SMOTE class distribution: {pd.Series(y_train).value_counts().to_dict()}\")"
   ]
  },
  {
   "cell_type": "code",
   "execution_count": 14,
   "id": "fa2229a2",
   "metadata": {},
   "outputs": [
    {
     "name": "stderr",
     "output_type": "stream",
     "text": [
      "INFO:__main__:Training Gradient Boosting model with GridSearchCV...\n"
     ]
    }
   ],
   "source": [
    "# Initialize and train the model with GridSearchCV\n",
    "logger.info(\"Training Gradient Boosting model with GridSearchCV...\")\n",
    "param_grid = {\n",
    "    'n_estimators': [50, 100],\n",
    "    'learning_rate': [0.01, 0.05, 0.1],\n",
    "    'max_depth': [3, 5]\n",
    "}"
   ]
  },
  {
   "cell_type": "code",
   "execution_count": 15,
   "id": "718fe408",
   "metadata": {},
   "outputs": [
    {
     "name": "stderr",
     "output_type": "stream",
     "text": [
      "INFO:__main__:Best parameters: {'learning_rate': 0.1, 'max_depth': 5, 'n_estimators': 100}\n"
     ]
    }
   ],
   "source": [
    "model = GradientBoostingClassifier(random_state=42)\n",
    "grid_search = GridSearchCV(model, param_grid, cv=5, scoring='f1', n_jobs=-1)\n",
    "grid_search.fit(X_train_scaled, y_train)\n",
    "best_model = grid_search.best_estimator_\n",
    "logger.info(f\"Best parameters: {grid_search.best_params_}\")"
   ]
  },
  {
   "cell_type": "code",
   "execution_count": 16,
   "id": "4d083514",
   "metadata": {},
   "outputs": [
    {
     "name": "stderr",
     "output_type": "stream",
     "text": [
      "INFO:__main__:Model Accuracy: 0.9247\n",
      "INFO:__main__:ROC-AUC Score: 0.5715\n"
     ]
    },
    {
     "name": "stdout",
     "output_type": "stream",
     "text": [
      "Model Accuracy: 0.9247\n",
      "ROC-AUC Score: 0.5715\n",
      "\n",
      "Classification Report:\n",
      "              precision    recall  f1-score   support\n",
      "\n",
      "           0       0.96      0.96      0.96       972\n",
      "           1       0.20      0.18      0.19        50\n",
      "\n",
      "    accuracy                           0.92      1022\n",
      "   macro avg       0.58      0.57      0.57      1022\n",
      "weighted avg       0.92      0.92      0.92      1022\n",
      "\n"
     ]
    }
   ],
   "source": [
    "# Make predictions\n",
    "y_pred = best_model.predict(X_test_scaled)\n",
    "\n",
    "# Evaluate the model\n",
    "accuracy = accuracy_score(y_test, y_pred)\n",
    "roc_auc = roc_auc_score(y_test, y_pred)\n",
    "logger.info(f\"Model Accuracy: {accuracy:.4f}\")\n",
    "logger.info(f\"ROC-AUC Score: {roc_auc:.4f}\")\n",
    "print(f\"Model Accuracy: {accuracy:.4f}\")\n",
    "print(f\"ROC-AUC Score: {roc_auc:.4f}\")\n",
    "print(\"\\nClassification Report:\")\n",
    "print(classification_report(y_test, y_pred))"
   ]
  },
  {
   "cell_type": "code",
   "execution_count": 17,
   "id": "21e2b1ef",
   "metadata": {},
   "outputs": [
    {
     "data": {
      "text/plain": [
       "['./label_encoder_stroke.pkl']"
      ]
     },
     "execution_count": 17,
     "metadata": {},
     "output_type": "execute_result"
    }
   ],
   "source": [
    "# Save the model, scaler, and label encoders (commented out as per original code)\n",
    "joblib.dump(best_model, './stroke_gb_model.pkl')\n",
    "joblib.dump(scaler, './scaler_stroke.pkl')\n",
    "joblib.dump(label_encoders, './label_encoder_stroke.pkl')"
   ]
  },
  {
   "cell_type": "code",
   "execution_count": 18,
   "id": "228fc1f7",
   "metadata": {},
   "outputs": [],
   "source": [
    "# Define prediction function\n",
    "def predict_stroke(sample, model, scaler, label_encoders, feature_order):\n",
    "    try:\n",
    "        logger.info(\"Preprocessing sample input...\")\n",
    "        sample_df = pd.DataFrame([sample])\n",
    "        sample_df['gender'] = sample_df['gender'].replace({'Male': 0, 'Female': 1})\n",
    "        for col in ['ever_married', 'smoking_status']:\n",
    "            sample_df[col] = label_encoders[col].transform(sample_df[col])\n",
    "        sample_df['work_type'] = sample_df['work_type'].replace({'Private': 0, 'Self-employed': 1, 'Govt_job': 2, 'children': 3, 'Never_worked': 4})\n",
    "        sample_df['Residence_type'] = sample_df['Residence_type'].replace({'Rural': 0, 'Urban': 1})\n",
    "        sample_df = sample_df[feature_order]\n",
    "        sample_scaled = scaler.transform(sample_df)\n",
    "        prediction = model.predict(sample_scaled)[0]\n",
    "        probabilities = model.predict_proba(sample_scaled)[0]\n",
    "        logger.info(\"Prediction successful\")\n",
    "        return {\n",
    "            'prediction': 'Stroke' if prediction == 1 else 'No Stroke',\n",
    "            'prob_no_stroke': probabilities[0],\n",
    "            'prob_stroke': probabilities[1]\n",
    "        }\n",
    "    except Exception as e:\n",
    "        logger.error(f\"Error during prediction: {str(e)}\")\n",
    "        raise"
   ]
  },
  {
   "cell_type": "code",
   "execution_count": 19,
   "id": "d02f3fcb",
   "metadata": {},
   "outputs": [],
   "source": [
    "# Test samples\n",
    "feature_order = ['gender', 'age', 'hypertension', 'heart_disease', 'ever_married', 'work_type', \n",
    "                 'Residence_type', 'avg_glucose_level', 'bmi', 'smoking_status']\n",
    "\n",
    "samples = [\n",
    "    {\n",
    "        'gender': 'Male',\n",
    "        'age': 40,\n",
    "        'hypertension': 1,\n",
    "        'heart_disease': 0,\n",
    "        'ever_married': 'Yes',\n",
    "        'work_type': 'Govt_job',\n",
    "        'Residence_type': 'Rural',\n",
    "        'avg_glucose_level': 212.01,\n",
    "        'bmi': 28.4,\n",
    "        'smoking_status': 'never smoked'\n",
    "    },\n",
    "    {\n",
    "        'gender': 'Male',\n",
    "        'age': 67,\n",
    "        'hypertension': 0,\n",
    "        'heart_disease': 1,\n",
    "        'ever_married': 'Yes',\n",
    "        'work_type': 'Private',\n",
    "        'Residence_type': 'Urban',\n",
    "        'avg_glucose_level': 228.69,\n",
    "        'bmi': 36.6,\n",
    "        'smoking_status': 'formerly smoked'\n",
    "    },\n",
    "    {\n",
    "        'gender': 'Female',\n",
    "        'age': 49,\n",
    "        'hypertension': 0,\n",
    "        'heart_disease': 0,\n",
    "        'ever_married': 'Yes',\n",
    "        'work_type': 'Private',\n",
    "        'Residence_type': 'Urban',\n",
    "        'avg_glucose_level': 171.23,\n",
    "        'bmi': 34.4,\n",
    "        'smoking_status': 'smokes'\n",
    "    },\n",
    "    {\n",
    "        'gender': 'Female',\n",
    "        'age': 79,\n",
    "        'hypertension': 1,\n",
    "        'heart_disease': 0,\n",
    "        'ever_married': 'Yes',\n",
    "        'work_type': 'Self-employed',\n",
    "        'Residence_type': 'Rural',\n",
    "        'avg_glucose_level': 174.12,\n",
    "        'bmi': 24.0,\n",
    "        'smoking_status': 'never smoked'\n",
    "    }\n",
    "]"
   ]
  },
  {
   "cell_type": "code",
   "execution_count": 20,
   "id": "3cf459cb",
   "metadata": {},
   "outputs": [
    {
     "name": "stderr",
     "output_type": "stream",
     "text": [
      "INFO:__main__:Preprocessing sample input...\n",
      "INFO:__main__:Prediction successful\n",
      "INFO:__main__:Preprocessing sample input...\n",
      "INFO:__main__:Prediction successful\n",
      "INFO:__main__:Preprocessing sample input...\n",
      "INFO:__main__:Prediction successful\n",
      "INFO:__main__:Preprocessing sample input...\n",
      "INFO:__main__:Prediction successful\n"
     ]
    },
    {
     "name": "stdout",
     "output_type": "stream",
     "text": [
      "\n",
      "Sample 1:\n",
      "Prediction for stroke: No Stroke\n",
      "Probability of No Stroke (0): 0.9922\n",
      "Probability of Stroke (1): 0.0078\n",
      "\n",
      "Sample 2:\n",
      "Prediction for stroke: Stroke\n",
      "Probability of No Stroke (0): 0.2247\n",
      "Probability of Stroke (1): 0.7753\n",
      "\n",
      "Sample 3:\n",
      "Prediction for stroke: No Stroke\n",
      "Probability of No Stroke (0): 0.5185\n",
      "Probability of Stroke (1): 0.4815\n",
      "\n",
      "Sample 4:\n",
      "Prediction for stroke: Stroke\n",
      "Probability of No Stroke (0): 0.3719\n",
      "Probability of Stroke (1): 0.6281\n"
     ]
    }
   ],
   "source": [
    "# Predict for each sample\n",
    "for i, sample in enumerate(samples, 1):\n",
    "    try:\n",
    "        result = predict_stroke(sample, best_model, scaler, label_encoders, feature_order)\n",
    "        print(f\"\\nSample {i}:\")\n",
    "        print(f\"Prediction for stroke: {result['prediction']}\")\n",
    "        print(f\"Probability of No Stroke (0): {result['prob_no_stroke']:.4f}\")\n",
    "        print(f\"Probability of Stroke (1): {result['prob_stroke']:.4f}\")\n",
    "    except Exception as e:\n",
    "        logger.error(f\"Error predicting sample {i}: {str(e)}\")"
   ]
  },
  {
   "cell_type": "code",
   "execution_count": 21,
   "id": "d94e9b33",
   "metadata": {},
   "outputs": [],
   "source": [
    "samples_two = [\n",
    "    {#1\n",
    "        'gender': 'Male',\n",
    "        'age': 67,\n",
    "        'hypertension': 0,\n",
    "        'heart_disease': 1,\n",
    "        'ever_married': 'Yes',\n",
    "        'work_type': 'Private',\n",
    "        'Residence_type': 'Urban',\n",
    "        'avg_glucose_level': 228.69,\n",
    "        'bmi': 36.6,\n",
    "        'smoking_status': 'formerly smoked',\n",
    "    },\n",
    "    {#1\n",
    "        'gender': 'Female',\n",
    "        'age': 61,\n",
    "        'hypertension': 0,\n",
    "        'heart_disease': 1,\n",
    "        'ever_married': 'Yes',\n",
    "        'work_type': 'Govt_job',\n",
    "        'Residence_type': 'Rural',\n",
    "        'avg_glucose_level': 120.46,\n",
    "        'bmi': 36.8,\n",
    "        'smoking_status': 'smokes',\n",
    "        \n",
    "    },\n",
    "    {\n",
    "        'gender': 'Male',\n",
    "        'age': 31,\n",
    "        'hypertension': 1,\n",
    "        'heart_disease': 0,\n",
    "        'ever_married': 'Yes',\n",
    "        'work_type': 'Govt_job',\n",
    "        'Residence_type': 'Urban',\n",
    "        'avg_glucose_level': 92.11,\n",
    "        'bmi': None,\n",
    "        'smoking_status': 'never smoked',\n",
    "    } #0\n",
    "]"
   ]
  },
  {
   "cell_type": "code",
   "execution_count": 22,
   "id": "fe9b3646",
   "metadata": {},
   "outputs": [
    {
     "name": "stderr",
     "output_type": "stream",
     "text": [
      "INFO:__main__:Preprocessing sample input...\n",
      "INFO:__main__:Prediction successful\n",
      "INFO:__main__:Preprocessing sample input...\n",
      "INFO:__main__:Prediction successful\n",
      "INFO:__main__:Preprocessing sample input...\n",
      "ERROR:__main__:Error during prediction: Input X contains NaN.\n",
      "GradientBoostingClassifier does not accept missing values encoded as NaN natively. For supervised learning, you might want to consider sklearn.ensemble.HistGradientBoostingClassifier and Regressor which accept missing values encoded as NaNs natively. Alternatively, it is possible to preprocess the data, for instance by using an imputer transformer in a pipeline or drop samples with missing values. See https://scikit-learn.org/stable/modules/impute.html You can find a list of all estimators that handle NaN values at the following page: https://scikit-learn.org/stable/modules/impute.html#estimators-that-handle-nan-values\n",
      "ERROR:__main__:Error predicting sample 3: Input X contains NaN.\n",
      "GradientBoostingClassifier does not accept missing values encoded as NaN natively. For supervised learning, you might want to consider sklearn.ensemble.HistGradientBoostingClassifier and Regressor which accept missing values encoded as NaNs natively. Alternatively, it is possible to preprocess the data, for instance by using an imputer transformer in a pipeline or drop samples with missing values. See https://scikit-learn.org/stable/modules/impute.html You can find a list of all estimators that handle NaN values at the following page: https://scikit-learn.org/stable/modules/impute.html#estimators-that-handle-nan-values\n"
     ]
    },
    {
     "name": "stdout",
     "output_type": "stream",
     "text": [
      "\n",
      "Sample 1:\n",
      "Prediction for stroke: Stroke\n",
      "Probability of No Stroke (0): 0.2247\n",
      "Probability of Stroke (1): 0.7753\n",
      "\n",
      "Sample 2:\n",
      "Prediction for stroke: Stroke\n",
      "Probability of No Stroke (0): 0.4291\n",
      "Probability of Stroke (1): 0.5709\n"
     ]
    }
   ],
   "source": [
    "# Predict for each sample\n",
    "for i, sample in enumerate(samples_two, 1):\n",
    "    try:\n",
    "        result = predict_stroke(sample, best_model, scaler, label_encoders, feature_order)\n",
    "        print(f\"\\nSample {i}:\")\n",
    "        print(f\"Prediction for stroke: {result['prediction']}\")\n",
    "        print(f\"Probability of No Stroke (0): {result['prob_no_stroke']:.4f}\")\n",
    "        print(f\"Probability of Stroke (1): {result['prob_stroke']:.4f}\")\n",
    "    except Exception as e:\n",
    "        logger.error(f\"Error predicting sample {i}: {str(e)}\")"
   ]
  }
 ],
 "metadata": {
  "kernelspec": {
   "display_name": "base",
   "language": "python",
   "name": "python3"
  },
  "language_info": {
   "codemirror_mode": {
    "name": "ipython",
    "version": 3
   },
   "file_extension": ".py",
   "mimetype": "text/x-python",
   "name": "python",
   "nbconvert_exporter": "python",
   "pygments_lexer": "ipython3",
   "version": "3.11.7"
  }
 },
 "nbformat": 4,
 "nbformat_minor": 5
}
