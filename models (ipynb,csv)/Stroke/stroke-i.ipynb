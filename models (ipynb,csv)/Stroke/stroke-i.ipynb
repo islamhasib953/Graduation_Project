{
 "cells": [
  {
   "cell_type": "code",
   "execution_count": 2,
   "id": "f43548c4",
   "metadata": {},
   "outputs": [],
   "source": [
    "import pandas as pd\n",
    "import numpy as np\n",
    "from sklearn.model_selection import train_test_split\n",
    "from sklearn.preprocessing import StandardScaler\n",
    "from sklearn.ensemble import RandomForestClassifier\n",
    "from sklearn.metrics import accuracy_score, classification_report\n",
    "import joblib\n",
    "import warnings\n",
    "warnings.filterwarnings('ignore')"
   ]
  },
  {
   "cell_type": "code",
   "execution_count": 3,
   "id": "3a7ed2cc",
   "metadata": {},
   "outputs": [],
   "source": [
    "# Load the dataset\n",
    "df = pd.read_csv('healthcare-dataset-stroke-data.csv')"
   ]
  },
  {
   "cell_type": "code",
   "execution_count": 4,
   "id": "58a33f3a",
   "metadata": {},
   "outputs": [],
   "source": [
    "# Data Preprocessing\n",
    "# Handle missing values\n",
    "df['bmi'] = df['bmi'].replace('N/A', np.nan)\n",
    "df['bmi'] = df['bmi'].astype(float)\n",
    "df['bmi'].fillna(df['bmi'].mean(), inplace=True)"
   ]
  },
  {
   "cell_type": "code",
   "execution_count": 5,
   "id": "96a7d5bf",
   "metadata": {},
   "outputs": [
    {
     "data": {
      "text/plain": [
       "0"
      ]
     },
     "execution_count": 5,
     "metadata": {},
     "output_type": "execute_result"
    }
   ],
   "source": [
    "df['bmi'].isna().sum()"
   ]
  },
  {
   "cell_type": "code",
   "execution_count": 6,
   "id": "8bc60da8",
   "metadata": {},
   "outputs": [],
   "source": [
    "# Drop 'id' column as it's not useful for prediction\n",
    "df = df.drop('id', axis=1)"
   ]
  },
  {
   "cell_type": "code",
   "execution_count": 7,
   "id": "97f0d58d",
   "metadata": {},
   "outputs": [],
   "source": [
    "# Encoding categorical values\n",
    "\n",
    "df['gender'] = df['gender'].replace({'Male':0,'Female':1,'Other':2}).astype(np.int8)\n",
    "df['Residence_type'] = df['Residence_type'].replace({'Rural':0,'Urban':1}).astype(np.int8)\n",
    "df['work_type'] = df['work_type'].replace({'Private':0,'Self-employed':1,'Govt_job':2,'children':3,'Never_worked':4}).astype(np.int8)"
   ]
  },
  {
   "cell_type": "code",
   "execution_count": 8,
   "id": "7fd3b095",
   "metadata": {},
   "outputs": [
    {
     "data": {
      "text/plain": [
       "gender                  int8\n",
       "age                  float64\n",
       "hypertension           int64\n",
       "heart_disease          int64\n",
       "ever_married          object\n",
       "work_type               int8\n",
       "Residence_type          int8\n",
       "avg_glucose_level    float64\n",
       "bmi                  float64\n",
       "smoking_status        object\n",
       "stroke                 int64\n",
       "dtype: object"
      ]
     },
     "execution_count": 8,
     "metadata": {},
     "output_type": "execute_result"
    }
   ],
   "source": [
    "df.dtypes"
   ]
  },
  {
   "cell_type": "code",
   "execution_count": 9,
   "id": "2a31a9b1",
   "metadata": {},
   "outputs": [],
   "source": [
    "# Drop rows where gender is 'Other'\n",
    "df = df[df['gender'] != 2]"
   ]
  },
  {
   "cell_type": "code",
   "execution_count": 10,
   "id": "029243a0",
   "metadata": {},
   "outputs": [
    {
     "data": {
      "text/plain": [
       "gender\n",
       "1    2994\n",
       "0    2115\n",
       "Name: count, dtype: int64"
      ]
     },
     "execution_count": 10,
     "metadata": {},
     "output_type": "execute_result"
    }
   ],
   "source": [
    "df['gender'].value_counts()"
   ]
  },
  {
   "cell_type": "code",
   "execution_count": 11,
   "id": "e74e6468",
   "metadata": {},
   "outputs": [
    {
     "data": {
      "text/plain": [
       "gender                  int8\n",
       "age                  float64\n",
       "hypertension           int64\n",
       "heart_disease          int64\n",
       "ever_married          object\n",
       "work_type               int8\n",
       "Residence_type          int8\n",
       "avg_glucose_level    float64\n",
       "bmi                  float64\n",
       "smoking_status        object\n",
       "stroke                 int64\n",
       "dtype: object"
      ]
     },
     "execution_count": 11,
     "metadata": {},
     "output_type": "execute_result"
    }
   ],
   "source": [
    "df.dtypes"
   ]
  },
  {
   "cell_type": "code",
   "execution_count": 12,
   "id": "933f8e2d",
   "metadata": {},
   "outputs": [
    {
     "data": {
      "text/plain": [
       "age\n",
       "78.00    102\n",
       "57.00     95\n",
       "52.00     90\n",
       "54.00     87\n",
       "51.00     86\n",
       "        ... \n",
       "1.40       3\n",
       "0.48       3\n",
       "0.16       3\n",
       "0.40       2\n",
       "0.08       2\n",
       "Name: count, Length: 104, dtype: int64"
      ]
     },
     "execution_count": 12,
     "metadata": {},
     "output_type": "execute_result"
    }
   ],
   "source": [
    "df['age'].value_counts()"
   ]
  },
  {
   "cell_type": "code",
   "execution_count": 13,
   "id": "91249784",
   "metadata": {},
   "outputs": [],
   "source": [
    "# Convert age from years to months\n",
    "df['age'] = df['age'] * 12"
   ]
  },
  {
   "cell_type": "code",
   "execution_count": 14,
   "id": "78218891",
   "metadata": {},
   "outputs": [],
   "source": [
    "df['age'] = df['age'].apply(lambda x: int(x) if isinstance(x, float) else x)"
   ]
  },
  {
   "cell_type": "code",
   "execution_count": 15,
   "id": "ac91cf44",
   "metadata": {},
   "outputs": [
    {
     "data": {
      "text/plain": [
       "gender                  int8\n",
       "age                    int64\n",
       "hypertension           int64\n",
       "heart_disease          int64\n",
       "ever_married          object\n",
       "work_type               int8\n",
       "Residence_type          int8\n",
       "avg_glucose_level    float64\n",
       "bmi                  float64\n",
       "smoking_status        object\n",
       "stroke                 int64\n",
       "dtype: object"
      ]
     },
     "execution_count": 15,
     "metadata": {},
     "output_type": "execute_result"
    }
   ],
   "source": [
    "df.dtypes"
   ]
  },
  {
   "cell_type": "code",
   "execution_count": 16,
   "id": "516fd3ea",
   "metadata": {},
   "outputs": [],
   "source": [
    "from sklearn.preprocessing import StandardScaler, LabelEncoder"
   ]
  },
  {
   "cell_type": "code",
   "execution_count": 17,
   "id": "1e41668f",
   "metadata": {},
   "outputs": [],
   "source": [
    "label_encoders = {}\n",
    "for col in ['ever_married', 'smoking_status']:\n",
    "    le = LabelEncoder()\n",
    "    df[col] = le.fit_transform(df[col])\n",
    "    label_encoders[col] = le  # Store encoder for potential future use"
   ]
  },
  {
   "cell_type": "code",
   "execution_count": 18,
   "id": "9e9a0d92",
   "metadata": {},
   "outputs": [],
   "source": [
    "# Define features and target\n",
    "X = df.drop('stroke', axis=1)\n",
    "y = df['stroke']\n",
    "\n",
    "# Apply StandardScaler before train-test split\n",
    "scaler = StandardScaler()\n",
    "X_scaled = scaler.fit_transform(X)\n",
    "\n",
    "# Split the scaled data\n",
    "X_train_scaled, X_test_scaled, y_train, y_test = train_test_split(X_scaled, y, test_size=0.2, random_state=42, stratify=y)"
   ]
  },
  {
   "cell_type": "code",
   "execution_count": 19,
   "id": "f3ea1551",
   "metadata": {},
   "outputs": [],
   "source": [
    "# joblib.dump(scaler, './scaler_stroke.pkl')\n",
    "# joblib.dump(label_encoders, './label_encoder_stroke.pkl')"
   ]
  },
  {
   "cell_type": "code",
   "execution_count": 20,
   "id": "7b2f2902",
   "metadata": {},
   "outputs": [
    {
     "name": "stdout",
     "output_type": "stream",
     "text": [
      "Model Accuracy: 0.9501\n",
      "\n",
      "Classification Report:\n",
      "              precision    recall  f1-score   support\n",
      "\n",
      "           0       0.95      1.00      0.97       972\n",
      "           1       0.00      0.00      0.00        50\n",
      "\n",
      "    accuracy                           0.95      1022\n",
      "   macro avg       0.48      0.50      0.49      1022\n",
      "weighted avg       0.90      0.95      0.93      1022\n",
      "\n"
     ]
    }
   ],
   "source": [
    "# Initialize and train the model\n",
    "model = RandomForestClassifier(n_estimators=50, random_state=42, class_weight='balanced')\n",
    "model.fit(X_train_scaled, y_train)\n",
    "\n",
    "# Make predictions\n",
    "y_pred = model.predict(X_test_scaled)\n",
    "\n",
    "# Evaluate the model\n",
    "accuracy = accuracy_score(y_test, y_pred)\n",
    "print(f\"Model Accuracy: {accuracy:.4f}\")\n",
    "print(\"\\nClassification Report:\")\n",
    "print(classification_report(y_test, y_pred))\n"
   ]
  },
  {
   "cell_type": "code",
   "execution_count": 21,
   "id": "3a941e5b",
   "metadata": {},
   "outputs": [],
   "source": [
    "from sklearn.linear_model import LogisticRegression\n",
    "from sklearn.svm import SVC\n",
    "from sklearn.ensemble import RandomForestClassifier, GradientBoostingClassifier\n",
    "from sklearn.neighbors import KNeighborsClassifier"
   ]
  },
  {
   "cell_type": "code",
   "execution_count": 22,
   "id": "18c3e371",
   "metadata": {},
   "outputs": [
    {
     "name": "stdout",
     "output_type": "stream",
     "text": [
      "\n",
      "Training Logistic Regression...\n",
      "Accuracy: 0.7339\n",
      "Classification Report for Logistic Regression:\n",
      "              precision    recall  f1-score   support\n",
      "\n",
      "           0       0.99      0.73      0.84       972\n",
      "           1       0.13      0.80      0.23        50\n",
      "\n",
      "    accuracy                           0.73      1022\n",
      "   macro avg       0.56      0.77      0.53      1022\n",
      "weighted avg       0.94      0.73      0.81      1022\n",
      "\n",
      "\n",
      "Training Svm...\n",
      "Accuracy: 0.7153\n",
      "Classification Report for Svm:\n",
      "              precision    recall  f1-score   support\n",
      "\n",
      "           0       0.98      0.71      0.83       972\n",
      "           1       0.12      0.78      0.21        50\n",
      "\n",
      "    accuracy                           0.72      1022\n",
      "   macro avg       0.55      0.75      0.52      1022\n",
      "weighted avg       0.94      0.72      0.80      1022\n",
      "\n",
      "\n",
      "Training Random Forest...\n",
      "Accuracy: 0.7035\n",
      "Classification Report for Random Forest:\n",
      "              precision    recall  f1-score   support\n",
      "\n",
      "           0       0.99      0.70      0.82       972\n",
      "           1       0.12      0.80      0.21        50\n",
      "\n",
      "    accuracy                           0.70      1022\n",
      "   macro avg       0.55      0.75      0.51      1022\n",
      "weighted avg       0.94      0.70      0.79      1022\n",
      "\n",
      "\n",
      "Training Gradient Boosting...\n",
      "Accuracy: 0.9491\n",
      "Classification Report for Gradient Boosting:\n",
      "              precision    recall  f1-score   support\n",
      "\n",
      "           0       0.95      1.00      0.97       972\n",
      "           1       0.00      0.00      0.00        50\n",
      "\n",
      "    accuracy                           0.95      1022\n",
      "   macro avg       0.48      0.50      0.49      1022\n",
      "weighted avg       0.90      0.95      0.93      1022\n",
      "\n",
      "\n",
      "Training Knn...\n",
      "Accuracy: 0.9491\n",
      "Classification Report for Knn:\n",
      "              precision    recall  f1-score   support\n",
      "\n",
      "           0       0.95      1.00      0.97       972\n",
      "           1       0.25      0.02      0.04        50\n",
      "\n",
      "    accuracy                           0.95      1022\n",
      "   macro avg       0.60      0.51      0.51      1022\n",
      "weighted avg       0.92      0.95      0.93      1022\n",
      "\n"
     ]
    }
   ],
   "source": [
    "# Define models with parameters to reduce overfitting\n",
    "models = {\n",
    "    'logistic_regression': LogisticRegression(random_state=42, class_weight='balanced', max_iter=1000, C=0.1),\n",
    "    'svm': SVC(random_state=42, class_weight='balanced', probability=True, C=0.5),\n",
    "    'random_forest': RandomForestClassifier(random_state=42, class_weight='balanced', n_estimators=100, max_depth=5),\n",
    "    'gradient_boosting': GradientBoostingClassifier(random_state=42, n_estimators=100, max_depth=3, learning_rate=0.05),\n",
    "    'knn': KNeighborsClassifier(n_neighbors=5)\n",
    "}\n",
    "\n",
    "# Train and evaluate each model\n",
    "for model_name, model in models.items():\n",
    "    print(f\"\\nTraining {model_name.replace('_', ' ').title()}...\")\n",
    "    model.fit(X_train_scaled, y_train)\n",
    "    y_pred = model.predict(X_test_scaled)\n",
    "    \n",
    "    # Evaluate\n",
    "    accuracy = accuracy_score(y_test, y_pred)\n",
    "    print(f\"Accuracy: {accuracy:.4f}\")\n",
    "    print(f\"Classification Report for {model_name.replace('_', ' ').title()}:\")\n",
    "    print(classification_report(y_test, y_pred))"
   ]
  },
  {
   "cell_type": "code",
   "execution_count": 23,
   "id": "f0749e44",
   "metadata": {},
   "outputs": [
    {
     "name": "stdout",
     "output_type": "stream",
     "text": [
      "Accuracy: 0.9491\n",
      "Classification Report for Knn:\n",
      "              precision    recall  f1-score   support\n",
      "\n",
      "           0       0.95      1.00      0.97       972\n",
      "           1       0.25      0.02      0.04        50\n",
      "\n",
      "    accuracy                           0.95      1022\n",
      "   macro avg       0.60      0.51      0.51      1022\n",
      "weighted avg       0.92      0.95      0.93      1022\n",
      "\n"
     ]
    }
   ],
   "source": [
    "knn = KNeighborsClassifier(n_neighbors=5)\n",
    "\n",
    "knn.fit(X_train_scaled, y_train)\n",
    "y_pred = model.predict(X_test_scaled)\n",
    "\n",
    "# Evaluate\n",
    "accuracy = accuracy_score(y_test, y_pred)\n",
    "print(f\"Accuracy: {accuracy:.4f}\")\n",
    "print(f\"Classification Report for {model_name.replace('_', ' ').title()}:\")\n",
    "print(classification_report(y_test, y_pred))"
   ]
  },
  {
   "cell_type": "code",
   "execution_count": 24,
   "id": "89076d5c",
   "metadata": {},
   "outputs": [],
   "source": [
    "# # Save the model\n",
    "# joblib.dump(model, f'./knn_Stroke-im.pkl')"
   ]
  },
  {
   "cell_type": "markdown",
   "id": "697803e7",
   "metadata": {},
   "source": [
    "1 stroke below"
   ]
  },
  {
   "cell_type": "code",
   "execution_count": 30,
   "id": "d0057d24",
   "metadata": {},
   "outputs": [
    {
     "name": "stdout",
     "output_type": "stream",
     "text": [
      "Prediction for stroke: No Stroke\n",
      "Probability of No Stroke (0): 1.0000\n",
      "Probability of Stroke (1): 0.0000\n"
     ]
    }
   ],
   "source": [
    "# Load the trained KNN model, scaler, and label encoders\n",
    "knn = joblib.load('./knn_Stroke-im.pkl')\n",
    "scaler = joblib.load('./scaler_stroke.pkl')\n",
    "label_encoders = joblib.load('./label_encoder_stroke.pkl')\n",
    "\n",
    "# Define the sample input (including age, excluding id and stroke)\n",
    "sample = {\n",
    "    'gender': 'Male',\n",
    "    'age': 40,  # Age in years, will be converted to months\n",
    "    'hypertension': 1,\n",
    "    'heart_disease': 0,\n",
    "    'ever_married': 'Yes',\n",
    "    'work_type': 'Govt_job',  # Encoded as 2 (int8)\n",
    "    'Residence_type': 'Rural',  # Encoded as 0 (int8)\n",
    "    'avg_glucose_level': 212.01,\n",
    "    'bmi': 28.4,\n",
    "    'smoking_status': 'never smoked'\n",
    "}\n",
    "\n",
    "# Convert sample to DataFrame\n",
    "sample_df = pd.DataFrame([sample])\n",
    "\n",
    "# Manually encode gender (Male=0, Female=1, as in training)\n",
    "sample_df['gender'] = sample_df['gender'].replace({'Male': 0, 'Female': 1})\n",
    "\n",
    "# Convert age to months and trim to integer\n",
    "sample_df['age'] = sample_df['age'] * 12\n",
    "sample_df['age'] = sample_df['age'].apply(lambda x: int(x) if isinstance(x, float) else x)\n",
    "\n",
    "# Label encode ever_married and smoking_status\n",
    "for col in ['ever_married', 'smoking_status']:\n",
    "    sample_df[col] = label_encoders[col].transform(sample_df[col])\n",
    "\n",
    "# Encode work_type and Residence_type (already int8 in training)\n",
    "# Use manual encoding as in training (Govt_job=2, Rural=0)\n",
    "sample_df['work_type'] = sample_df['work_type'].replace({'Private': 0, 'Self-employed': 1, 'Govt_job': 2, 'children': 3, 'Never_worked': 4})\n",
    "sample_df['Residence_type'] = sample_df['Residence_type'].replace({'Rural': 0, 'Urban': 1})\n",
    "\n",
    "# Ensure columns are in the same order as training\n",
    "feature_order = ['gender', 'age', 'hypertension', 'heart_disease', 'ever_married', 'work_type', \n",
    "                 'Residence_type', 'avg_glucose_level', 'bmi', 'smoking_status']\n",
    "sample_df = sample_df[feature_order]\n",
    "\n",
    "# Scale the features\n",
    "sample_scaled = scaler.transform(sample_df)\n",
    "\n",
    "# Make prediction\n",
    "prediction = knn.predict(sample_scaled)[0]\n",
    "probabilities = knn.predict_proba(sample_scaled)[0]\n",
    "\n",
    "# Output results\n",
    "print(f\"Prediction for stroke: {'Stroke' if prediction == 1 else 'No Stroke'}\")\n",
    "print(f\"Probability of No Stroke (0): {probabilities[0]:.4f}\")\n",
    "print(f\"Probability of Stroke (1): {probabilities[1]:.4f}\")"
   ]
  },
  {
   "cell_type": "markdown",
   "id": "c3fbed78",
   "metadata": {},
   "source": [
    "0 stroke below"
   ]
  },
  {
   "cell_type": "code",
   "execution_count": 31,
   "id": "c76ff98f",
   "metadata": {},
   "outputs": [
    {
     "name": "stdout",
     "output_type": "stream",
     "text": [
      "Prediction for stroke: No Stroke\n",
      "Probability of No Stroke (0): 0.6000\n",
      "Probability of Stroke (1): 0.4000\n"
     ]
    }
   ],
   "source": [
    "# Load the trained KNN model, scaler, and label encoders\n",
    "knn = joblib.load('./knn_Stroke-im.pkl')\n",
    "scaler = joblib.load('./scaler_stroke.pkl')\n",
    "label_encoders = joblib.load('./label_encoder_stroke.pkl')\n",
    "\n",
    "# Define the sample input (including age, excluding id and stroke)\n",
    "sample = {\n",
    "    'gender': 'Male',\n",
    "    'age': 67,  # Age in years, will be converted to months\n",
    "    'hypertension': 0,\n",
    "    'heart_disease': 1,\n",
    "    'ever_married': 'Yes',\n",
    "    'work_type': 'Private',  # Encoded as 0 (int8)\n",
    "    'Residence_type': 'Urban',  # Encoded as 1 (int8)\n",
    "    'avg_glucose_level': 228.69,\n",
    "    'bmi': 36.6,\n",
    "    'smoking_status': 'formerly smoked'\n",
    "}\n",
    "\n",
    "# Convert sample to DataFrame\n",
    "sample_df = pd.DataFrame([sample])\n",
    "\n",
    "# Manually encode gender (Male=0, Female=1, as in training)\n",
    "sample_df['gender'] = sample_df['gender'].replace({'Male': 0, 'Female': 1})\n",
    "\n",
    "# Convert age to months and trim to integer\n",
    "sample_df['age'] = sample_df['age'] * 12\n",
    "sample_df['age'] = sample_df['age'].apply(lambda x: int(x) if isinstance(x, float) else x)\n",
    "\n",
    "# Label encode ever_married and smoking_status\n",
    "for col in ['ever_married', 'smoking_status']:\n",
    "    sample_df[col] = label_encoders[col].transform(sample_df[col])\n",
    "\n",
    "# Encode work_type and Residence_type (already int8 in training)\n",
    "# Use manual encoding as in training (Govt_job=2, Rural=0)\n",
    "sample_df['work_type'] = sample_df['work_type'].replace({'Private': 0, 'Self-employed': 1, 'Govt_job': 2, 'children': 3, 'Never_worked': 4})\n",
    "sample_df['Residence_type'] = sample_df['Residence_type'].replace({'Rural': 0, 'Urban': 1})\n",
    "\n",
    "# Ensure columns are in the same order as training\n",
    "feature_order = ['gender', 'age', 'hypertension', 'heart_disease', 'ever_married', 'work_type', \n",
    "                 'Residence_type', 'avg_glucose_level', 'bmi', 'smoking_status']\n",
    "sample_df = sample_df[feature_order]\n",
    "\n",
    "# Scale the features\n",
    "sample_scaled = scaler.transform(sample_df)\n",
    "\n",
    "# Make prediction\n",
    "prediction = knn.predict(sample_scaled)[0]\n",
    "probabilities = knn.predict_proba(sample_scaled)[0]\n",
    "\n",
    "# Output results\n",
    "print(f\"Prediction for stroke: {'Stroke' if prediction == 1 else 'No Stroke'}\")\n",
    "print(f\"Probability of No Stroke (0): {probabilities[0]:.4f}\")\n",
    "print(f\"Probability of Stroke (1): {probabilities[1]:.4f}\")\n"
   ]
  },
  {
   "cell_type": "code",
   "execution_count": 32,
   "id": "a11d72cc",
   "metadata": {},
   "outputs": [
    {
     "name": "stdout",
     "output_type": "stream",
     "text": [
      "Prediction for stroke: No Stroke\n",
      "Probability of No Stroke (0): 0.8000\n",
      "Probability of Stroke (1): 0.2000\n"
     ]
    }
   ],
   "source": [
    "# Load the trained KNN model, scaler, and label encoders\n",
    "knn = joblib.load('./knn_Stroke-im.pkl')\n",
    "scaler = joblib.load('./scaler_stroke.pkl')\n",
    "label_encoders = joblib.load('./label_encoder_stroke.pkl')\n",
    "\n",
    "\n",
    "# Define the sample input (including age, excluding id and stroke)\n",
    "sample = {\n",
    "    'gender': 'Female',\n",
    "    'age': 49,  # Age in years, will be converted to months\n",
    "    'hypertension': 0,\n",
    "    'heart_disease': 0,\n",
    "    'ever_married': 'Yes',\n",
    "    'work_type': 'Private',  # Encoded as 0 (int8)\n",
    "    'Residence_type': 'Urban',  # Encoded as 1 (int8)\n",
    "    'avg_glucose_level': 171.23,\n",
    "    'bmi': 34.4,\n",
    "    'smoking_status': 'smokes'\n",
    "}\n",
    "\n",
    "\n",
    "# Convert sample to DataFrame\n",
    "sample_df = pd.DataFrame([sample])\n",
    "\n",
    "# Manually encode gender (Male=0, Female=1, as in training)\n",
    "sample_df['gender'] = sample_df['gender'].replace({'Male': 0, 'Female': 1})\n",
    "\n",
    "# Convert age to months and trim to integer\n",
    "sample_df['age'] = sample_df['age'] * 12\n",
    "sample_df['age'] = sample_df['age'].apply(lambda x: int(x) if isinstance(x, float) else x)\n",
    "\n",
    "# Label encode ever_married and smoking_status\n",
    "for col in ['ever_married', 'smoking_status']:\n",
    "    sample_df[col] = label_encoders[col].transform(sample_df[col])\n",
    "\n",
    "# Encode work_type and Residence_type (already int8 in training)\n",
    "# Use manual encoding as in training (Govt_job=2, Rural=0)\n",
    "sample_df['work_type'] = sample_df['work_type'].replace({'Private': 0, 'Self-employed': 1, 'Govt_job': 2, 'children': 3, 'Never_worked': 4})\n",
    "sample_df['Residence_type'] = sample_df['Residence_type'].replace({'Rural': 0, 'Urban': 1})\n",
    "\n",
    "# Ensure columns are in the same order as training\n",
    "feature_order = ['gender', 'age', 'hypertension', 'heart_disease', 'ever_married', 'work_type', \n",
    "                 'Residence_type', 'avg_glucose_level', 'bmi', 'smoking_status']\n",
    "sample_df = sample_df[feature_order]\n",
    "\n",
    "# Scale the features\n",
    "sample_scaled = scaler.transform(sample_df)\n",
    "\n",
    "# Make prediction\n",
    "prediction = knn.predict(sample_scaled)[0]\n",
    "probabilities = knn.predict_proba(sample_scaled)[0]\n",
    "\n",
    "# Output results\n",
    "print(f\"Prediction for stroke: {'Stroke' if prediction == 1 else 'No Stroke'}\")\n",
    "print(f\"Probability of No Stroke (0): {probabilities[0]:.4f}\")\n",
    "print(f\"Probability of Stroke (1): {probabilities[1]:.4f}\")\n",
    "\n",
    "\n"
   ]
  },
  {
   "cell_type": "markdown",
   "id": "3c13f12b",
   "metadata": {},
   "source": [
    "1 stroke below"
   ]
  },
  {
   "cell_type": "code",
   "execution_count": 33,
   "id": "f7c27988",
   "metadata": {},
   "outputs": [
    {
     "name": "stdout",
     "output_type": "stream",
     "text": [
      "Prediction for stroke: No Stroke\n",
      "Probability of No Stroke (0): 0.6000\n",
      "Probability of Stroke (1): 0.4000\n"
     ]
    }
   ],
   "source": [
    "# Load the trained KNN model, scaler, and label encoders\n",
    "knn = joblib.load('./knn_Stroke-im.pkl')\n",
    "scaler = joblib.load('./scaler_stroke.pkl')\n",
    "label_encoders = joblib.load('./label_encoder_stroke.pkl')\n",
    "\n",
    "\n",
    "# Define the sample input (including age, excluding id and stroke)\n",
    "sample = {\n",
    "    'gender': 'Female',\n",
    "    'age': 79,  # Age in years, will be converted to months\n",
    "    'hypertension': 1,\n",
    "    'heart_disease': 0,\n",
    "    'ever_married': 'Yes',\n",
    "    'work_type': 'Self-employed',  # Encoded as 1 (int8)\n",
    "    'Residence_type': 'Rural',  # Encoded as 0 (int8)\n",
    "    'avg_glucose_level': 174.12,\n",
    "    'bmi': 24.0,\n",
    "    'smoking_status': 'never smoked'\n",
    "}\n",
    "\n",
    "\n",
    "\n",
    "# Convert sample to DataFrame\n",
    "sample_df = pd.DataFrame([sample])\n",
    "\n",
    "# Manually encode gender (Male=0, Female=1, as in training)\n",
    "sample_df['gender'] = sample_df['gender'].replace({'Male': 0, 'Female': 1})\n",
    "\n",
    "# Convert age to months and trim to integer\n",
    "sample_df['age'] = sample_df['age'] * 12\n",
    "sample_df['age'] = sample_df['age'].apply(lambda x: int(x) if isinstance(x, float) else x)\n",
    "\n",
    "# Label encode ever_married and smoking_status\n",
    "for col in ['ever_married', 'smoking_status']:\n",
    "    sample_df[col] = label_encoders[col].transform(sample_df[col])\n",
    "\n",
    "# Encode work_type and Residence_type (already int8 in training)\n",
    "# Use manual encoding as in training (Govt_job=2, Rural=0)\n",
    "sample_df['work_type'] = sample_df['work_type'].replace({'Private': 0, 'Self-employed': 1, 'Govt_job': 2, 'children': 3, 'Never_worked': 4})\n",
    "sample_df['Residence_type'] = sample_df['Residence_type'].replace({'Rural': 0, 'Urban': 1})\n",
    "\n",
    "# Ensure columns are in the same order as training\n",
    "feature_order = ['gender', 'age', 'hypertension', 'heart_disease', 'ever_married', 'work_type', \n",
    "                 'Residence_type', 'avg_glucose_level', 'bmi', 'smoking_status']\n",
    "sample_df = sample_df[feature_order]\n",
    "\n",
    "# Scale the features\n",
    "sample_scaled = scaler.transform(sample_df)\n",
    "\n",
    "# Make prediction\n",
    "prediction = knn.predict(sample_scaled)[0]\n",
    "probabilities = knn.predict_proba(sample_scaled)[0]\n",
    "\n",
    "# Output results\n",
    "print(f\"Prediction for stroke: {'Stroke' if prediction == 1 else 'No Stroke'}\")\n",
    "print(f\"Probability of No Stroke (0): {probabilities[0]:.4f}\")\n",
    "print(f\"Probability of Stroke (1): {probabilities[1]:.4f}\")\n"
   ]
  }
 ],
 "metadata": {
  "kernelspec": {
   "display_name": "base",
   "language": "python",
   "name": "python3"
  },
  "language_info": {
   "codemirror_mode": {
    "name": "ipython",
    "version": 3
   },
   "file_extension": ".py",
   "mimetype": "text/x-python",
   "name": "python",
   "nbconvert_exporter": "python",
   "pygments_lexer": "ipython3",
   "version": "3.11.7"
  }
 },
 "nbformat": 4,
 "nbformat_minor": 5
}
