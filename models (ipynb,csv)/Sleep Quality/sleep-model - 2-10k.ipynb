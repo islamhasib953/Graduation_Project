{
 "cells": [
  {
   "cell_type": "code",
   "execution_count": 11,
   "id": "cb3b4557",
   "metadata": {},
   "outputs": [],
   "source": [
    "import pandas as pd\n",
    "import numpy as np\n",
    "from sklearn.model_selection import train_test_split\n",
    "from sklearn.ensemble import RandomForestClassifier\n",
    "from sklearn.preprocessing import LabelEncoder, StandardScaler\n",
    "from sklearn.metrics import classification_report, accuracy_score\n",
    "import joblib"
   ]
  },
  {
   "cell_type": "code",
   "execution_count": 12,
   "id": "b771ba1e",
   "metadata": {},
   "outputs": [],
   "source": [
    "# Load the dataset\n",
    "df = pd.read_csv(\"balanced_sleep_quality_dataset_no_timestamp_10t.csv\")"
   ]
  },
  {
   "cell_type": "code",
   "execution_count": 13,
   "id": "d679f11f",
   "metadata": {},
   "outputs": [],
   "source": [
    "# Prepare features (X) and target (y)\n",
    "X = df[[\"Heart_Rate\", \"Acceleration\", \"SpO2\", \"Temperature\"]]\n",
    "y = df[\"Predicted_Sleep_Stage\"]"
   ]
  },
  {
   "cell_type": "code",
   "execution_count": 14,
   "id": "9462caf4",
   "metadata": {},
   "outputs": [],
   "source": [
    "# Prepare features (X) and target (y)\n",
    "X = df[[\"Heart_Rate\", \"Acceleration\", \"SpO2\", \"Temperature\"]]\n",
    "y = df[\"Predicted_Sleep_Stage\"]\n",
    "\n",
    "# Encode the target labels (convert sleep stages to numeric values)\n",
    "label_encoder = LabelEncoder()\n",
    "y_encoded = label_encoder.fit_transform(y)"
   ]
  },
  {
   "cell_type": "code",
   "execution_count": 15,
   "id": "c38d0e0a",
   "metadata": {},
   "outputs": [
    {
     "data": {
      "text/plain": [
       "['label_encoder-10t.pkl']"
      ]
     },
     "execution_count": 15,
     "metadata": {},
     "output_type": "execute_result"
    }
   ],
   "source": [
    "# Save the label encoder for later use in the Flutter app\n",
    "joblib.dump(label_encoder, \"label_encoder-10t.pkl\")"
   ]
  },
  {
   "cell_type": "code",
   "execution_count": 16,
   "id": "a9968b09",
   "metadata": {},
   "outputs": [],
   "source": [
    "# Scale the features (important for SVM, Logistic Regression, and KNN)\n",
    "scaler = StandardScaler()\n",
    "X_scaled = scaler.fit_transform(X)"
   ]
  },
  {
   "cell_type": "code",
   "execution_count": 17,
   "id": "f1cb6647",
   "metadata": {},
   "outputs": [
    {
     "data": {
      "text/plain": [
       "['scaler-10t.pkl']"
      ]
     },
     "execution_count": 17,
     "metadata": {},
     "output_type": "execute_result"
    }
   ],
   "source": [
    "# Save the scaler for later use\n",
    "joblib.dump(scaler, \"scaler-10t.pkl\")"
   ]
  },
  {
   "cell_type": "code",
   "execution_count": 18,
   "id": "92778571",
   "metadata": {},
   "outputs": [],
   "source": [
    "# Split the data into training and testing sets\n",
    "X_train, X_test, y_train, y_test = train_test_split(X_scaled, y_encoded, test_size=0.2, random_state=42)\n"
   ]
  },
  {
   "cell_type": "code",
   "execution_count": 19,
   "id": "95f271f8",
   "metadata": {},
   "outputs": [],
   "source": [
    "from sklearn.ensemble import RandomForestClassifier\n",
    "from sklearn.svm import SVC\n",
    "from sklearn.linear_model import LogisticRegression\n",
    "from sklearn.neighbors import KNeighborsClassifier"
   ]
  },
  {
   "cell_type": "code",
   "execution_count": 20,
   "id": "396a65b3",
   "metadata": {},
   "outputs": [
    {
     "name": "stdout",
     "output_type": "stream",
     "text": [
      "\n",
      "Training Random Forest...\n",
      "Random Forest Accuracy: 0.924\n",
      "Random Forest Classification Report:\n",
      "                   precision    recall  f1-score   support\n",
      "\n",
      "            Awake       0.96      0.97      0.96       399\n",
      "       Deep Sleep       0.99      1.00      1.00       399\n",
      "      Light Sleep       0.85      0.85      0.85       409\n",
      "              REM       0.84      0.85      0.84       377\n",
      "Sleep Disturbance       0.97      0.96      0.96       416\n",
      "\n",
      "         accuracy                           0.92      2000\n",
      "        macro avg       0.92      0.92      0.92      2000\n",
      "     weighted avg       0.92      0.92      0.92      2000\n",
      "\n",
      "\n",
      "Training SVM...\n",
      "SVM Accuracy: 0.9015\n",
      "SVM Classification Report:\n",
      "                   precision    recall  f1-score   support\n",
      "\n",
      "            Awake       0.91      0.96      0.94       399\n",
      "       Deep Sleep       0.98      0.99      0.98       399\n",
      "      Light Sleep       0.82      0.83      0.82       409\n",
      "              REM       0.83      0.81      0.82       377\n",
      "Sleep Disturbance       0.97      0.91      0.94       416\n",
      "\n",
      "         accuracy                           0.90      2000\n",
      "        macro avg       0.90      0.90      0.90      2000\n",
      "     weighted avg       0.90      0.90      0.90      2000\n",
      "\n",
      "\n",
      "Training Logistic Regression...\n",
      "Logistic Regression Accuracy: 0.8825\n",
      "Logistic Regression Classification Report:\n",
      "                   precision    recall  f1-score   support\n",
      "\n",
      "            Awake       0.90      0.90      0.90       399\n",
      "       Deep Sleep       0.96      0.98      0.97       399\n",
      "      Light Sleep       0.81      0.80      0.80       409\n",
      "              REM       0.80      0.82      0.81       377\n",
      "Sleep Disturbance       0.93      0.91      0.92       416\n",
      "\n",
      "         accuracy                           0.88      2000\n",
      "        macro avg       0.88      0.88      0.88      2000\n",
      "     weighted avg       0.88      0.88      0.88      2000\n",
      "\n",
      "\n",
      "Training KNN...\n",
      "KNN Accuracy: 0.9035\n",
      "KNN Classification Report:\n",
      "                   precision    recall  f1-score   support\n",
      "\n",
      "            Awake       0.94      0.96      0.95       399\n",
      "       Deep Sleep       0.98      0.99      0.98       399\n",
      "      Light Sleep       0.82      0.81      0.81       409\n",
      "              REM       0.81      0.81      0.81       377\n",
      "Sleep Disturbance       0.97      0.94      0.95       416\n",
      "\n",
      "         accuracy                           0.90      2000\n",
      "        macro avg       0.90      0.90      0.90      2000\n",
      "     weighted avg       0.90      0.90      0.90      2000\n",
      "\n"
     ]
    }
   ],
   "source": [
    "# Initialize individual models\n",
    "random_forest_model = RandomForestClassifier(n_estimators=100, random_state=42)\n",
    "svm_model = SVC(kernel='rbf', random_state=42)\n",
    "logistic_regression_model = LogisticRegression(max_iter=1000, random_state=42)\n",
    "knn_model = KNeighborsClassifier(n_neighbors=5)\n",
    "\n",
    "# Train and evaluate Random Forest\n",
    "print(\"\\nTraining Random Forest...\")\n",
    "random_forest_model.fit(X_train, y_train)\n",
    "rf_pred = random_forest_model.predict(X_test)\n",
    "rf_accuracy = accuracy_score(y_test, rf_pred)\n",
    "print(\"Random Forest Accuracy:\", rf_accuracy)\n",
    "print(\"Random Forest Classification Report:\")\n",
    "print(classification_report(y_test, rf_pred, target_names=label_encoder.classes_))\n",
    "\n",
    "# Train and evaluate SVM\n",
    "print(\"\\nTraining SVM...\")\n",
    "svm_model.fit(X_train, y_train)\n",
    "svm_pred = svm_model.predict(X_test)\n",
    "svm_accuracy = accuracy_score(y_test, svm_pred)\n",
    "print(\"SVM Accuracy:\", svm_accuracy)\n",
    "print(\"SVM Classification Report:\")\n",
    "print(classification_report(y_test, svm_pred, target_names=label_encoder.classes_))\n",
    "\n",
    "\n",
    "\n",
    "# Train and evaluate Logistic Regression\n",
    "print(\"\\nTraining Logistic Regression...\")\n",
    "logistic_regression_model.fit(X_train, y_train)\n",
    "lr_pred = logistic_regression_model.predict(X_test)\n",
    "lr_accuracy = accuracy_score(y_test, lr_pred)\n",
    "\n",
    "print(\"Logistic Regression Accuracy:\", lr_accuracy)\n",
    "print(\"Logistic Regression Classification Report:\")\n",
    "print(classification_report(y_test, lr_pred, target_names=label_encoder.classes_))\n",
    "\n",
    "# Train and evaluate KNN\n",
    "print(\"\\nTraining KNN...\")\n",
    "knn_model.fit(X_train, y_train)\n",
    "knn_pred = knn_model.predict(X_test)\n",
    "knn_accuracy = accuracy_score(y_test, knn_pred)\n",
    "joblib.dump(knn_model, \"sleep_quality_model_knn.pkl\")\n",
    "print(\"KNN Accuracy:\", knn_accuracy)\n",
    "print(\"KNN Classification Report:\")\n",
    "print(classification_report(y_test, knn_pred, target_names=label_encoder.classes_))"
   ]
  },
  {
   "cell_type": "code",
   "execution_count": 21,
   "id": "6e0a82c4",
   "metadata": {},
   "outputs": [],
   "source": [
    "# from sklearn.model_selection import GridSearchCV\n",
    "\n",
    "# param_grid = {\n",
    "#     'n_estimators': [100, 200, 300],\n",
    "#     'max_depth': [10, 20, None],\n",
    "#     'min_samples_split': [2, 5],\n",
    "#     'min_samples_leaf': [1, 2],\n",
    "#     'max_features': ['sqrt', 'log2']\n",
    "# }\n",
    "# grid_search = GridSearchCV(RandomForestClassifier(random_state=42), param_grid, cv=5, scoring='accuracy')\n",
    "# grid_search.fit(X_train, y_train)\n",
    "# print(\"Best Parameters:\", grid_search.best_params_)\n",
    "# best_rf_model = grid_search.best_estimator_"
   ]
  },
  {
   "cell_type": "code",
   "execution_count": 22,
   "id": "de444391",
   "metadata": {},
   "outputs": [
    {
     "name": "stdout",
     "output_type": "stream",
     "text": [
      "Training Optimized Random Forest...\n",
      "Optimized Random Forest Accuracy: 0.9315\n",
      "Optimized Random Forest Classification Report:\n",
      "                   precision    recall  f1-score   support\n",
      "\n",
      "            Awake       0.93      1.00      0.96       399\n",
      "       Deep Sleep       1.00      1.00      1.00       399\n",
      "      Light Sleep       0.83      0.92      0.87       409\n",
      "              REM       0.90      0.80      0.85       377\n",
      "Sleep Disturbance       1.00      0.93      0.96       416\n",
      "\n",
      "         accuracy                           0.93      2000\n",
      "        macro avg       0.93      0.93      0.93      2000\n",
      "     weighted avg       0.93      0.93      0.93      2000\n",
      "\n"
     ]
    }
   ],
   "source": [
    "# Initialize Random Forest with optimized parameters\n",
    "rf_model = RandomForestClassifier(\n",
    "    n_estimators=300,\n",
    "    max_depth=10,\n",
    "    max_features='sqrt',\n",
    "    min_samples_leaf=1,\n",
    "    min_samples_split=2,\n",
    "    random_state=42\n",
    ")\n",
    "\n",
    "# Train the model\n",
    "print(\"Training Optimized Random Forest...\")\n",
    "rf_model.fit(X_train, y_train)\n",
    "\n",
    "# Make predictions on the test set\n",
    "y_pred = rf_model.predict(X_test)\n",
    "\n",
    "# Evaluate the model\n",
    "accuracy = accuracy_score(y_test, y_pred)\n",
    "print(\"Optimized Random Forest Accuracy:\", accuracy)\n",
    "print(\"Optimized Random Forest Classification Report:\")\n",
    "print(classification_report(y_test, y_pred, target_names=label_encoder.classes_))"
   ]
  },
  {
   "cell_type": "code",
   "execution_count": 24,
   "id": "0e1ac454",
   "metadata": {},
   "outputs": [
    {
     "data": {
      "text/plain": [
       "['sleep_quality_model_random_forest_optimized-knn.pkl']"
      ]
     },
     "execution_count": 24,
     "metadata": {},
     "output_type": "execute_result"
    }
   ],
   "source": [
    "#Save the trained model\n",
    "joblib.dump(knn_model, \"sleep_quality_model_random_forest_optimized-knn.pkl\")"
   ]
  }
 ],
 "metadata": {
  "kernelspec": {
   "display_name": "base",
   "language": "python",
   "name": "python3"
  },
  "language_info": {
   "codemirror_mode": {
    "name": "ipython",
    "version": 3
   },
   "file_extension": ".py",
   "mimetype": "text/x-python",
   "name": "python",
   "nbconvert_exporter": "python",
   "pygments_lexer": "ipython3",
   "version": "3.11.7"
  }
 },
 "nbformat": 4,
 "nbformat_minor": 5
}
